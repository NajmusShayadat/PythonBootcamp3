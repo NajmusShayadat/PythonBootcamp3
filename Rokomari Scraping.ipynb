{
 "cells": [
  {
   "cell_type": "code",
   "execution_count": null,
   "metadata": {},
   "outputs": [],
   "source": [
    "import requests\n",
    "import bs4\n",
    "import re\n",
    "\n",
    "page_base = \"https://www.rokomari.com/book/publishers?page={}\"\n",
    "name_list=[]\n",
    "valid_page = True\n",
    "\n",
    "i = 1\n",
    "while valid_page:\n",
    "    webpage = page_base.format(i)\n",
    "    grab_all = requests.get(webpage)\n",
    "    soup = bs4.BeautifulSoup(grab_all.text,'lxml')\n",
    "    names = soup.select(\".hoverName\")\n",
    "    \n",
    "    if names:\n",
    "        with open('Rokomari booklist.txt','a+',encoding=\"utf-8\") as f:\n",
    "            for name in names:\n",
    "                name_list.append(name.text[6:])\n",
    "\n",
    "                f.write(name.text[6:]+'\\n')\n",
    "            i += 1\n",
    "    else:\n",
    "        print('Done')\n",
    "        valid_page = False"
   ]
  },
  {
   "cell_type": "code",
   "execution_count": null,
   "metadata": {},
   "outputs": [],
   "source": []
  }
 ],
 "metadata": {
  "kernelspec": {
   "display_name": "Python 3",
   "language": "python",
   "name": "python3"
  },
  "language_info": {
   "codemirror_mode": {
    "name": "ipython",
    "version": 3
   },
   "file_extension": ".py",
   "mimetype": "text/x-python",
   "name": "python",
   "nbconvert_exporter": "python",
   "pygments_lexer": "ipython3",
   "version": "3.7.4"
  }
 },
 "nbformat": 4,
 "nbformat_minor": 2
}
